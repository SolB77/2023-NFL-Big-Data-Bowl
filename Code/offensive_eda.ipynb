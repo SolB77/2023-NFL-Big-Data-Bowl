{
 "cells": [
  {
   "cell_type": "markdown",
   "metadata": {},
   "source": [
    "# Offensive Line EDA\n",
    "### Sol Ben-Ishay"
   ]
  },
  {
   "cell_type": "code",
   "execution_count": null,
   "metadata": {},
   "outputs": [],
   "source": [
    "# Import libraries\n",
    "import pandas as pd\n",
    "import matplotlib.pyplot as plt\n",
    "import numpy as np\n",
    "import plotly.graph_objects as go\n",
    "from datetime import datetime"
   ]
  },
  {
   "cell_type": "code",
   "execution_count": null,
   "metadata": {},
   "outputs": [],
   "source": [
    "# Read in data\n",
    "games_df = pd.read_csv(\"../Data/games.csv\")\n",
    "plays_df = pd.read_csv(\"../Data/plays.csv\")\n",
    "players_df = pd.read_csv(\"../Data/players.csv\")\n",
    "scouting_df = pd.read_csv(\"../Data/pffScoutingData.csv\")\n",
    "week1_tracking_df = pd.read_csv(\"../Data/week1.csv\")\n",
    "week2_tracking_df = pd.read_csv(\"../Data/week2.csv\")"
   ]
  },
  {
   "cell_type": "code",
   "execution_count": null,
   "metadata": {},
   "outputs": [],
   "source": [
    "#Get main tracking data\n",
    "coi = ['gameId', 'season', 'week', 'playId',\n",
    "       'playDescription',  'frameId', 'quarter', 'down', 'yardsToGo',\n",
    "       'possessionTeam', 'defensiveTeam', 'passResult', 'prePenaltyPlayResult',\n",
    "       'absoluteYardlineNumber', 'dropBackType', 'pff_playAction', 'nflId', 'time', 'team',\n",
    "       'x', 'y', 'event', 'officialPosition', 'displayName']\n",
    "\n",
    "gptp_df = (games_df.merge(plays_df, on='gameId', how='left')\n",
    "                .merge(week1_tracking_df, on=['gameId','playId'], how='left')\n",
    "                .merge(players_df, on= 'nflId', how='left'))[coi]\n",
    "\n",
    "# Convert up dt_time column to time\n",
    "gptp_df['time'] = pd.to_datetime(gptp_df['time'])\n",
    "\n",
    "# Drop where frameId is NA (not sure what that means, assume it is where the tracking didn't join with the player data)\n",
    "gptp_df = gptp_df.dropna(axis=0, how='all', subset=['frameId', 'time', 'team', 'x', 'y', 'event'])\n",
    "\n",
    "# Replace officialPosition, diplayName, and nflId with ball/0\n",
    "gptp_df = gptp_df.fillna(value={'nflId': 0, 'officialPosition': 'ball', 'displayName': 'ball', 'dropBackType': 'none'})"
   ]
  },
  {
   "cell_type": "code",
   "execution_count": null,
   "metadata": {},
   "outputs": [],
   "source": [
    "# Check for na data\n",
    "if sum(gptp_df.isna().sum().values) != 0:\n",
    "    print(gptp_df.isna().sum())"
   ]
  },
  {
   "cell_type": "code",
   "execution_count": null,
   "metadata": {},
   "outputs": [],
   "source": [
    "gptp_df['passResult'].unique()\n",
    "# Potential snap events: ['ball_snap', 'autoevent_ballsnap']\n",
    "# Potential action events: ['pass_forward', 'autoevent_passforward', 'autoevent_passinterrupted', 'qb_sack', 'fumble', 'run', 'qb_strip_sack', 'lateral', 'handoff']\n",
    "# Potential drop back types: ['TRADITIONAL', 'SCRAMBLE_ROLLOUT_RIGHT', 'DESIGNED_ROLLOUT_RIGHT', 'nan', 'SCRAMBLE', 'DESIGNED_ROLLOUT_LEFT', 'UNKNOWN', 'DESIGNED_RUN', 'SCRAMBLE_ROLLOUT_LEFT']"
   ]
  },
  {
   "cell_type": "code",
   "execution_count": null,
   "metadata": {},
   "outputs": [],
   "source": [
    "# Get time from snap to action event (using ball)\n",
    "potential_snap_events = ['ball_snap', 'autoevent_ballsnap']\n",
    "potential_action_events = ['pass_forward', 'autoevent_passforward', 'autoevent_passinterrupted', 'qb_sack', 'fumble', 'run', 'qb_strip_sack', 'lateral', 'handoff']\n",
    "\n",
    "coi = ['gameId', 'playId', 'time']\n",
    "snap_to_action_df = gptp_df.query(f\"(nflId == 0) and (event in {potential_snap_events} or event in {potential_action_events})\")[coi]\n",
    "snap_to_action_df = snap_to_action_df.groupby(['gameId', 'playId']).apply(lambda x: max(x['time']) - min(x['time'])).reset_index(name = 'snap_to_action')\n",
    "snap_to_action_df['snap_to_action'] = snap_to_action_df['snap_to_action'].dt.total_seconds()\n",
    "snap_to_action_df.head()\n",
    "\n",
    "coi = ['gameId', 'season', 'week', 'playId', 'quarter', 'down', 'possessionTeam', 'team', 'yardsToGo', 'passResult', 'prePenaltyPlayResult']\n",
    "play_result_df = gptp_df.query(\"officialPosition == 'ball' and (frameId == 1)\")[coi]\n",
    "play_result_df\n",
    "\n",
    "snap_to_action_df = play_result_df.merge(snap_to_action_df, on=['gameId', 'playId'], how = 'left').drop([68, 169, 587, 311])\n",
    "# Drop bad rows (weird snap_to_action times for variety of reasons)\n",
    "# snap_to_action_df.sort_values(by=['snap_to_action'], ascending=[True]).head()\n",
    "snap_to_action_df.head()"
   ]
  },
  {
   "cell_type": "code",
   "execution_count": null,
   "metadata": {},
   "outputs": [],
   "source": [
    "import seaborn as sns\n",
    "box = sns.boxplot(data=snap_to_action_df, x=\"passResult\", y=\"snap_to_action\")\n",
    "display(box)"
   ]
  },
  {
   "cell_type": "code",
   "execution_count": null,
   "metadata": {},
   "outputs": [],
   "source": [
    "strip = sns.stripplot(data=snap_to_action_df, x=\"passResult\", y=\"snap_to_action\")\n",
    "display(strip)"
   ]
  }
 ],
 "metadata": {
  "kernelspec": {
   "display_name": "Python 3.9.7 ('kaggle_venv': venv)",
   "language": "python",
   "name": "python3"
  },
  "language_info": {
   "codemirror_mode": {
    "name": "ipython",
    "version": 3
   },
   "file_extension": ".py",
   "mimetype": "text/x-python",
   "name": "python",
   "nbconvert_exporter": "python",
   "pygments_lexer": "ipython3",
   "version": "3.9.7"
  },
  "orig_nbformat": 4,
  "vscode": {
   "interpreter": {
    "hash": "7f1b956008a91c55b58e943197941d68155f979680d4b59411e907f4e002aa97"
   }
  }
 },
 "nbformat": 4,
 "nbformat_minor": 2
}
