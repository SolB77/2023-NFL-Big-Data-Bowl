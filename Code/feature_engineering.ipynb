{
 "cells": [
  {
   "attachments": {},
   "cell_type": "markdown",
   "metadata": {},
   "source": [
    "# **2023 NFL Big Data Bowl**\n",
    "### Sol Ben-Ishay"
   ]
  },
  {
   "attachments": {},
   "cell_type": "markdown",
   "metadata": {},
   "source": [
    "## **Feature Engineering**"
   ]
  },
  {
   "cell_type": "code",
   "execution_count": 1,
   "metadata": {},
   "outputs": [],
   "source": [
    "%run extract&wrangle.ipynb"
   ]
  },
  {
   "attachments": {},
   "cell_type": "markdown",
   "metadata": {},
   "source": [
    "### **Pre-Snap Features**"
   ]
  },
  {
   "attachments": {},
   "cell_type": "markdown",
   "metadata": {},
   "source": [
    "#### **DL Alignments**"
   ]
  },
  {
   "attachments": {},
   "cell_type": "markdown",
   "metadata": {},
   "source": [
    "*Get the pre-snap alignment (edge, head-up, or in gap) for each of the DL for each play*"
   ]
  },
  {
   "cell_type": "code",
   "execution_count": 2,
   "metadata": {},
   "outputs": [],
   "source": [
    "# 1. Get the y position of the DL 2 frames before the snap\n",
    "coi = ['gameId', 'playId', 'nflId', 'frameId', 'y']\n",
    "pass_rushers_pos_presnap_df = (dl_frame_df[coi]\n",
    "                            .merge(frame_of_snap_df, on=['gameId','playId'], how='left', suffixes=['','_snap'])\n",
    "                            .query(\"frameId == (frameId_snap-2)\")\n",
    "                            .drop(columns=[\"frameId\",\"frameId_snap\"]))\n",
    "\n",
    "# 2. Get the y position of the OL/LOS blockers 2 frames before the snap\n",
    "ol_pos_presnap_df = (ol_pos_df[coi]\n",
    "                    .merge(frame_of_snap_df, on=['gameId','playId'], how='left', suffixes=['','_snap'])\n",
    "                    .query(\"frameId == (frameId_snap-2)\")\n",
    "                    .drop(columns=[\"frameId\",\"frameId_snap\"]))\n",
    "\n",
    "#3. Group by game, play, and d-lineman and get the position of all the offensive linemen on the play in a list\n",
    "dl_alignment_df = pass_rushers_pos_presnap_df.merge(ol_pos_presnap_df, on=['gameId','playId'], how='left', suffixes=['_dl','_ol']).drop(columns=[\"nflId_ol\"])\n",
    "dl_alignment_df = dl_alignment_df.groupby([\"gameId\",\"playId\",\"nflId_dl\",\"y_dl\"])['y_ol'].apply(list).reset_index()\n",
    "dl_alignment_df = dl_alignment_df.sort_values(by=[\"gameId\",\"playId\",\"y_dl\"])\n",
    "dl_alignment_df['y_ol'] = dl_alignment_df['y_ol'].apply(sorted)\n",
    "\n",
    "#4. Set the conditions for each alignment (edge, head-up, or in gap)\n",
    "threshold_for_edge = .5\n",
    "threshold_for_head_up = .25\n",
    "\n",
    "edge_cond = (((dl_alignment_df.y_dl + threshold_for_edge) < dl_alignment_df.y_ol.apply(lambda x: min(x))) |\n",
    "((dl_alignment_df.y_dl - threshold_for_edge) > dl_alignment_df.y_ol.apply(lambda x: max(x))))\n",
    "\n",
    "head_up_lambda = (lambda x: abs(x['y_ol'][np.abs(np.asarray(x['y_ol']) - x['y_dl']).argmin()] - x['y_dl']))\n",
    "head_up_cond = ((~edge_cond) &\n",
    "                (dl_alignment_df.apply(head_up_lambda, axis=1) < threshold_for_head_up))\n",
    "\n",
    "gap_cond = ((~edge_cond) & (~head_up_cond))\n",
    "\n",
    "#5. Get the alignment\n",
    "dl_alignment_df.loc[edge_cond, 'dl_alignment'] = 'edge'\n",
    "dl_alignment_df.loc[head_up_cond, 'dl_alignment'] = 'head_up'\n",
    "dl_alignment_df.loc[gap_cond, 'dl_alignment'] = 'gap'\n",
    "\n",
    "dl_alignment_df = dl_alignment_df.drop(columns=['y_dl','y_ol']).rename(columns={\"nflId_dl\":\"nflId\"})"
   ]
  },
  {
   "attachments": {},
   "cell_type": "markdown",
   "metadata": {},
   "source": [
    "### **Intra-Play Features**"
   ]
  },
  {
   "attachments": {},
   "cell_type": "markdown",
   "metadata": {},
   "source": [
    "*These features can either be used as is for intra-play predictions or can be modified by taking a historic mesaure for pre-snap predictions*"
   ]
  },
  {
   "attachments": {},
   "cell_type": "markdown",
   "metadata": {},
   "source": [
    "#### **DL Num of Blockers**"
   ]
  },
  {
   "cell_type": "code",
   "execution_count": 3,
   "metadata": {},
   "outputs": [],
   "source": [
    "# 1. Get the number of blockers per DL on each play\n",
    "ol = ['C','G','T','TE','FB','RB']\n",
    "conds = f\"pff_role == 'Pass Block' and officialPosition in {ol}\"\n",
    "\n",
    "# 2. Get the blocking assignments of the offensive linemen\n",
    "coi = ['gameId', 'playId', 'nflId', 'pff_nflIdBlockedPlayer', 'pff_beatenByDefender']\n",
    "ol_blocks_df = player_level_df.query(conds)[coi]\n",
    "ol_blocks_df = ol_blocks_df.rename(columns={\"nflId\":\"nflIdBlocker\",\"pff_nflIdBlockedPlayer\":\"nflIdDefender\",\"pff_beatenByDefender\":\"beatBlocker\"})\n",
    "ol_blocks_df.head()\n",
    "\n",
    "# 3. Get the num of blockers per defender\n",
    "dl_num_blockers_df = ol_blocks_df[['gameId','playId','nflIdDefender','nflIdBlocker']].groupby(['gameId','playId','nflIdDefender']).count().reset_index().rename(columns={'nflIdDefender':'nflId','nflIdBlocker':'numBlockers'})\n",
    "dl_num_blockers_df.loc[dl_num_blockers_df['numBlockers'] == 1, 'multBlockers'] = \"N\"\n",
    "dl_num_blockers_df.loc[dl_num_blockers_df['numBlockers'] > 1, 'multBlockers'] = \"Y\"\n",
    "\n",
    "# dl_num_blockers_df.head()"
   ]
  },
  {
   "attachments": {},
   "cell_type": "markdown",
   "metadata": {},
   "source": [
    "#### **DL Metrics at Key Points in Time**"
   ]
  },
  {
   "attachments": {},
   "cell_type": "markdown",
   "metadata": {},
   "source": [
    "*Get the tracking metrics + depth behind the LOS + dist of each of the DL from the QB for specific points in time after the snap for each play*"
   ]
  },
  {
   "cell_type": "code",
   "execution_count": 4,
   "metadata": {},
   "outputs": [],
   "source": [
    "def get_dl_metrics_at_time(time_after_snap):\n",
    "    \"\"\"\n",
    "    Returns a dataframe with the metrics of every DL at the selected point in time after the snap\n",
    "\n",
    "    Args:\n",
    "        time: Either a positive float representing the time in seconds (to the tenths place) after the snap or \"release\" for at release time\n",
    "    Returns:\n",
    "        This is a description of what is returned.\n",
    "    Raises:\n",
    "        KeyError: Raises an exception.\n",
    "    \"\"\"\n",
    "\n",
    "    if isinstance(time_after_snap, float) or isinstance(time_after_snap, int):\n",
    "        col_str = str(time_after_snap)\n",
    "        col_names = {\"x\":f\"x_at_{col_str}\",\"y\":f\"y_at_{col_str}\",\"s\":f\"speed_at_{col_str}\",\"o\":f\"o_at_{col_str}\",\"dir\":f\"dir_at_{col_str}\"}\n",
    "        num_frames_after_snap = time_after_snap * 10\n",
    "\n",
    "         # 1. Get the metrics of the QB at the selected time\n",
    "        qb_pos_at_key_df = (qb_pos_df\n",
    "                        .merge(frame_of_snap_df, on=['gameId','playId'], how='left', suffixes=['','_snap'])\n",
    "                        .query(f\"frameId == (frameId_snap+{num_frames_after_snap})\")\n",
    "                        .drop(columns=[\"nflId\",\"frameId\",\"frameId_snap\",\"s\",\"o\",\"dir\",\"playDirection\"])\n",
    "                        .rename(columns=col_names))\n",
    "\n",
    "        # 2. Get the metrics of the DL at the selected time\n",
    "        pass_rushers_pos_at_key_df = (dl_frame_df\n",
    "                                .merge(frame_of_snap_df, on=['gameId','playId'], how='left', suffixes=['','_snap'])\n",
    "                                .query(f\"frameId == (frameId_snap+{num_frames_after_snap})\")\n",
    "                                .drop(columns=[\"frameId\",\"frameId_snap\"])\n",
    "                                .rename(columns=col_names))\n",
    "\n",
    "    elif time_after_snap == \"release\":\n",
    "        col_str = \"rel\"\n",
    "        col_names = {\"x\":f\"x_at_{col_str}\",\"y\":f\"y_at_{col_str}\",\"s\":f\"speed_at_{col_str}\",\"o\":f\"o_at_{col_str}\",\"dir\":f\"dir_at_{col_str}\"}\n",
    "\n",
    "        # 1. Get the position of the QB at release\n",
    "        qb_pos_at_key_df = (frame_of_action_df\n",
    "                            .merge(qb_pos_df, on=['gameId','playId','frameId'], how='left')\n",
    "                            .drop(columns=[\"nflId\",\"frameId\",\"s\",\"o\",\"dir\",\"playDirection\"])\n",
    "                            .rename(columns=col_names))\n",
    "\n",
    "        # 2. Get the positions of the DL at release\n",
    "        pass_rushers_pos_at_key_df = (frame_of_action_df\n",
    "                                    .merge(dl_frame_df, on=['gameId','playId','frameId'], how='left')\n",
    "                                    .drop(columns=['frameId'])\n",
    "                                    .rename(columns=col_names))\n",
    "\n",
    "    else:\n",
    "        raise ValueError(\"Invalid input to 'time_after_snap!'\")\n",
    "\n",
    "    # 4. Get the depth of the DL at the selected time\n",
    "    pass_rushers_depth_at_key_df = pass_rushers_pos_at_key_df.merge(play_level_df[['gameId','playId','absoluteYardlineNumber']], on=['gameId','playId'], how='left')\n",
    "    pass_rushers_depth_at_key_df.loc[pass_rushers_depth_at_key_df.playDirection == 'right', f'depth_at_{col_str}'] = pass_rushers_depth_at_key_df['absoluteYardlineNumber'] - pass_rushers_depth_at_key_df[f'x_at_{col_str}']\n",
    "    pass_rushers_depth_at_key_df.loc[pass_rushers_depth_at_key_df.playDirection == 'left', f'depth_at_{col_str}'] = pass_rushers_depth_at_key_df[f'x_at_{col_str}'] - pass_rushers_depth_at_key_df['absoluteYardlineNumber']\n",
    "    pass_rushers_depth_at_key_df = pass_rushers_depth_at_key_df[['gameId','playId','nflId', f'x_at_{col_str}', f'y_at_{col_str}', f'speed_at_{col_str}',f'o_at_{col_str}',f'dir_at_{col_str}',f'depth_at_{col_str}']]\n",
    "\n",
    "    # 5. Get the distances of the DL from the QB at the selected time\n",
    "    rusher_dist_at_key_df = pass_rushers_pos_at_key_df.merge(qb_pos_at_key_df, how='left', on=['gameId','playId'], suffixes=['_pr','_qb'])\n",
    "    rusher_dist_at_key_df['x2-x1'] = (rusher_dist_at_key_df[f'x_at_{col_str}_qb'] - rusher_dist_at_key_df[f'x_at_{col_str}_pr'])**2\n",
    "    rusher_dist_at_key_df['y2-y1'] = (rusher_dist_at_key_df[f'y_at_{col_str}_qb'] - rusher_dist_at_key_df[f'y_at_{col_str}_pr'])**2\n",
    "    rusher_dist_at_key_df[f'distance_at_{col_str}'] = np.sqrt(rusher_dist_at_key_df['x2-x1'] + rusher_dist_at_key_df['y2-y1'])\n",
    "    rusher_dist_at_key_df = rusher_dist_at_key_df[['gameId','playId','nflId',f'distance_at_{col_str}']]\n",
    "\n",
    "    # 6. Get all the metrics of the DL at the selected time\n",
    "    pass_rushers_at_key_df = pass_rushers_depth_at_key_df.merge(rusher_dist_at_key_df, on=['gameId','playId','nflId'], how='outer')\n",
    "\n",
    "    return pass_rushers_at_key_df"
   ]
  },
  {
   "cell_type": "code",
   "execution_count": 5,
   "metadata": {},
   "outputs": [],
   "source": [
    "# Get metrics at 1.5 seconds after the snap\n",
    "pass_rushers_at_key_df = get_dl_metrics_at_time(1.5)\n",
    "# Get metrics at 2 seconds after the snap\n",
    "pass_rushers_at_key2_df = get_dl_metrics_at_time(2)\n",
    "# Get metrics at release (only \"distance from qb\" for now)\n",
    "rusher_dist_at_rel_df = get_dl_metrics_at_time(\"release\")[['gameId', 'playId', 'nflId', 'distance_at_rel']]"
   ]
  },
  {
   "attachments": {},
   "cell_type": "markdown",
   "metadata": {},
   "source": [
    "#### **DL Time to Depth**"
   ]
  },
  {
   "cell_type": "code",
   "execution_count": 6,
   "metadata": {},
   "outputs": [],
   "source": [
    "# 1. Set the depth and the condition for when a player is at depth depending on the play direction\n",
    "depth = 3\n",
    "right_play_dir_cond = f\"(playDirection == 'right') and (x <= absoluteYardlineNumber - {depth})\"\n",
    "left_play_dir_cond = f\"(playDirection == 'left') and (x >= absoluteYardlineNumber + {depth})\"\n",
    "\n",
    "# 2. Get all the frames/times at depth for each DL\n",
    "time_at_depth_df = (play_level_df[['gameId','playId','absoluteYardlineNumber']]\n",
    "                .merge(frame_level_df, on = ['gameId','playId'], how = 'left')\n",
    "                .merge(player_level_df[['gameId','playId','nflId', 'officialPosition']], on= ['gameId','playId','nflId'], how='left')\n",
    "                .query(f\"officialPosition in ['NT','DT','DE'] and ({right_play_dir_cond} or {left_play_dir_cond})\"))\n",
    "\n",
    "# 3. Get the minimum frame/time at depth for each DL\n",
    "coi = ['gameId','playId','nflId', 'displayName', 'time']\n",
    "min_time_at_depth_df = time_at_depth_df[coi].groupby(['gameId', 'playId', 'nflId', 'displayName']).min().reset_index().rename(columns={'time':'depth_time'})\n",
    "\n",
    "# 4. Get the time of snap for each play (to calculate the time after snap at depth)\n",
    "coi = ['gameId','playId','time']\n",
    "time_of_snap_df = play_event_times_df.query(\"event == 'ballsnap'\")[coi].rename(columns={'time':'snap_time'})\n",
    "\n",
    "# 5. Get the time after snap to depth for each DL (if they got to depth)\n",
    "time_to_depth_df = min_time_at_depth_df.merge(time_of_snap_df, on=['gameId','playId'], how='left')\n",
    "time_to_depth_df[\"time_to_depth\"] = time_to_depth_df['depth_time'] - time_to_depth_df['snap_time']\n",
    "time_to_depth_df[\"time_to_depth\"] = time_to_depth_df[\"time_to_depth\"].dt.total_seconds()\n",
    "time_to_depth_df = time_to_depth_df[['gameId', 'playId', 'nflId', 'time_to_depth']].sort_values(by='time_to_depth')\n",
    "\n",
    "# 6. Drop weird time_to_depth value less than zero (means the player was 3 yds behind the LOS before the snap, bad tracking data?)\n",
    "time_to_depth_df = time_to_depth_df.query(\"~(gameId == 2021091204 and playId == 2699 and nflId == 45011)\")\n",
    "\n",
    "# time_to_depth_df.head()"
   ]
  },
  {
   "cell_type": "markdown",
   "metadata": {},
   "source": [
    "#### **QB Lateral Movement**"
   ]
  },
  {
   "cell_type": "code",
   "execution_count": 7,
   "metadata": {},
   "outputs": [
    {
     "data": {
      "text/html": [
       "<div>\n",
       "<style scoped>\n",
       "    .dataframe tbody tr th:only-of-type {\n",
       "        vertical-align: middle;\n",
       "    }\n",
       "\n",
       "    .dataframe tbody tr th {\n",
       "        vertical-align: top;\n",
       "    }\n",
       "\n",
       "    .dataframe thead th {\n",
       "        text-align: right;\n",
       "    }\n",
       "</style>\n",
       "<table border=\"1\" class=\"dataframe\">\n",
       "  <thead>\n",
       "    <tr style=\"text-align: right;\">\n",
       "      <th></th>\n",
       "      <th>gameId</th>\n",
       "      <th>playId</th>\n",
       "      <th>x_snap</th>\n",
       "      <th>x_rel</th>\n",
       "      <th>qb_x_movement</th>\n",
       "    </tr>\n",
       "  </thead>\n",
       "  <tbody>\n",
       "    <tr>\n",
       "      <th>0</th>\n",
       "      <td>2021090900</td>\n",
       "      <td>97</td>\n",
       "      <td>37.64</td>\n",
       "      <td>32.99</td>\n",
       "      <td>-4.65</td>\n",
       "    </tr>\n",
       "    <tr>\n",
       "      <th>1</th>\n",
       "      <td>2021090900</td>\n",
       "      <td>137</td>\n",
       "      <td>113.20</td>\n",
       "      <td>116.48</td>\n",
       "      <td>3.28</td>\n",
       "    </tr>\n",
       "    <tr>\n",
       "      <th>2</th>\n",
       "      <td>2021090900</td>\n",
       "      <td>187</td>\n",
       "      <td>81.26</td>\n",
       "      <td>84.02</td>\n",
       "      <td>2.76</td>\n",
       "    </tr>\n",
       "    <tr>\n",
       "      <th>3</th>\n",
       "      <td>2021090900</td>\n",
       "      <td>282</td>\n",
       "      <td>50.72</td>\n",
       "      <td>58.98</td>\n",
       "      <td>8.26</td>\n",
       "    </tr>\n",
       "    <tr>\n",
       "      <th>4</th>\n",
       "      <td>2021090900</td>\n",
       "      <td>349</td>\n",
       "      <td>58.79</td>\n",
       "      <td>63.68</td>\n",
       "      <td>4.89</td>\n",
       "    </tr>\n",
       "    <tr>\n",
       "      <th>...</th>\n",
       "      <td>...</td>\n",
       "      <td>...</td>\n",
       "      <td>...</td>\n",
       "      <td>...</td>\n",
       "      <td>...</td>\n",
       "    </tr>\n",
       "    <tr>\n",
       "      <th>8528</th>\n",
       "      <td>2021110100</td>\n",
       "      <td>4310</td>\n",
       "      <td>22.74</td>\n",
       "      <td>26.40</td>\n",
       "      <td>3.66</td>\n",
       "    </tr>\n",
       "    <tr>\n",
       "      <th>8529</th>\n",
       "      <td>2021110100</td>\n",
       "      <td>4363</td>\n",
       "      <td>29.88</td>\n",
       "      <td>25.16</td>\n",
       "      <td>-4.72</td>\n",
       "    </tr>\n",
       "    <tr>\n",
       "      <th>8530</th>\n",
       "      <td>2021110100</td>\n",
       "      <td>4392</td>\n",
       "      <td>32.91</td>\n",
       "      <td>29.20</td>\n",
       "      <td>-3.71</td>\n",
       "    </tr>\n",
       "    <tr>\n",
       "      <th>8531</th>\n",
       "      <td>2021110100</td>\n",
       "      <td>4411</td>\n",
       "      <td>24.87</td>\n",
       "      <td>21.98</td>\n",
       "      <td>-2.89</td>\n",
       "    </tr>\n",
       "    <tr>\n",
       "      <th>8532</th>\n",
       "      <td>2021110100</td>\n",
       "      <td>4433</td>\n",
       "      <td>24.52</td>\n",
       "      <td>23.58</td>\n",
       "      <td>-0.94</td>\n",
       "    </tr>\n",
       "  </tbody>\n",
       "</table>\n",
       "<p>8533 rows × 5 columns</p>\n",
       "</div>"
      ],
      "text/plain": [
       "          gameId  playId  x_snap   x_rel  qb_x_movement\n",
       "0     2021090900      97   37.64   32.99          -4.65\n",
       "1     2021090900     137  113.20  116.48           3.28\n",
       "2     2021090900     187   81.26   84.02           2.76\n",
       "3     2021090900     282   50.72   58.98           8.26\n",
       "4     2021090900     349   58.79   63.68           4.89\n",
       "...          ...     ...     ...     ...            ...\n",
       "8528  2021110100    4310   22.74   26.40           3.66\n",
       "8529  2021110100    4363   29.88   25.16          -4.72\n",
       "8530  2021110100    4392   32.91   29.20          -3.71\n",
       "8531  2021110100    4411   24.87   21.98          -2.89\n",
       "8532  2021110100    4433   24.52   23.58          -0.94\n",
       "\n",
       "[8533 rows x 5 columns]"
      ]
     },
     "execution_count": 7,
     "metadata": {},
     "output_type": "execute_result"
    }
   ],
   "source": [
    "# 1. Get the position of the QB at release\n",
    "qb_pos_at_snap_df = (frame_of_snap_df\n",
    "                    .merge(qb_pos_df, on=['gameId','playId','frameId'], how='left')\n",
    "                    .drop(columns=[\"nflId\",\"frameId\",\"y\",\"s\",\"o\",\"dir\",\"playDirection\"]))\n",
    "\n",
    "qb_pos_at_release_df = (frame_of_action_df\n",
    "                    .merge(qb_pos_df, on=['gameId','playId','frameId'], how='left')\n",
    "                    .drop(columns=[\"nflId\",\"frameId\",\"y\",\"s\",\"o\",\"dir\",\"playDirection\"]))\n",
    "\n",
    "qb_lateral_movement_df = qb_pos_at_snap_df.merge(qb_pos_at_release_df, on=['gameId','playId'], how='left', suffixes=['_snap','_rel'])\n",
    "\n",
    "qb_lateral_movement_df['qb_x_movement'] = qb_lateral_movement_df['x_rel'] - qb_lateral_movement_df['x_snap']\n",
    "\n",
    "qb_lateral_movement_df"
   ]
  }
 ],
 "metadata": {
  "kernelspec": {
   "display_name": "kaggle_venv",
   "language": "python",
   "name": "python3"
  },
  "language_info": {
   "codemirror_mode": {
    "name": "ipython",
    "version": 3
   },
   "file_extension": ".py",
   "mimetype": "text/x-python",
   "name": "python",
   "nbconvert_exporter": "python",
   "pygments_lexer": "ipython3",
   "version": "3.9.7"
  },
  "orig_nbformat": 4,
  "vscode": {
   "interpreter": {
    "hash": "7f1b956008a91c55b58e943197941d68155f979680d4b59411e907f4e002aa97"
   }
  }
 },
 "nbformat": 4,
 "nbformat_minor": 2
}
