{
 "cells": [
  {
   "cell_type": "markdown",
   "metadata": {},
   "source": [
    "# Defensive Line EDA\n",
    "### Sol Ben-Ishay"
   ]
  }
 ],
 "metadata": {
  "kernelspec": {
   "display_name": "Python 3.9.7 ('kaggle_venv': venv)",
   "language": "python",
   "name": "python3"
  },
  "language_info": {
   "name": "python",
   "version": "3.9.7"
  },
  "orig_nbformat": 4,
  "vscode": {
   "interpreter": {
    "hash": "7f1b956008a91c55b58e943197941d68155f979680d4b59411e907f4e002aa97"
   }
  }
 },
 "nbformat": 4,
 "nbformat_minor": 2
}
