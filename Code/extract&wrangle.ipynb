{
 "cells": [
  {
   "attachments": {},
   "cell_type": "markdown",
   "metadata": {},
   "source": [
    "# **2023 NFL Big Data Bowl**\n",
    "### Sol Ben-Ishay"
   ]
  },
  {
   "attachments": {},
   "cell_type": "markdown",
   "metadata": {},
   "source": [
    "## **Data Extraction/Wrangling**"
   ]
  },
  {
   "attachments": {},
   "cell_type": "markdown",
   "metadata": {},
   "source": [
    "### **Import libraries**"
   ]
  },
  {
   "cell_type": "code",
   "execution_count": 1,
   "metadata": {},
   "outputs": [],
   "source": [
    "# Import libraries\n",
    "from datetime import datetime\n",
    "import numpy as np\n",
    "import pandas as pd\n",
    "import matplotlib.pyplot as plt\n",
    "import seaborn as sns\n",
    "import nfl_data_py as nfl\n",
    "from scipy import stats \n",
    "from utils import animate_play"
   ]
  },
  {
   "attachments": {},
   "cell_type": "markdown",
   "metadata": {},
   "source": [
    "### **Read in the data**"
   ]
  },
  {
   "cell_type": "code",
   "execution_count": 2,
   "metadata": {},
   "outputs": [],
   "source": [
    "# Read in the internal BDB competition data\n",
    "games_df = pd.read_csv(\"../Data/games.csv\")\n",
    "plays_df = pd.read_csv(\"../Data/plays.csv\")\n",
    "players_df = pd.read_csv(\"../Data/players.csv\")\n",
    "scouting_df = pd.read_csv(\"../Data/pffScoutingData.csv\")\n",
    "tracking_df_list = [\"../Data/tracking/week1.csv\", \"../Data/tracking/week2.csv\", \"../Data/tracking/week3.csv\", \"../Data/tracking/week4.csv\",\n",
    "\"../Data/tracking/week5.csv\", \"../Data/tracking/week6.csv\", \"../Data/tracking/week7.csv\", \"../Data/tracking/week8.csv\"]\n",
    "tracking_df = pd.concat(map(pd.read_csv, tracking_df_list))"
   ]
  },
  {
   "attachments": {},
   "cell_type": "markdown",
   "metadata": {},
   "source": [
    "### **Create+clean the main data**"
   ]
  },
  {
   "cell_type": "code",
   "execution_count": null,
   "metadata": {},
   "outputs": [],
   "source": [
    "# Get the play-level data\n",
    "coi = ['gameId', 'season', 'week', 'homeTeamAbbr', 'visitorTeamAbbr', 'playId',\n",
    "       'playDescription', 'quarter', 'down', 'yardsToGo', 'possessionTeam',\n",
    "       'defensiveTeam', 'yardlineSide', 'yardlineNumber', 'gameClock',\n",
    "       'preSnapHomeScore', 'preSnapVisitorScore', 'passResult', 'penaltyYards',\n",
    "       'prePenaltyPlayResult', 'playResult', 'foulName1', 'foulNFLId1',\n",
    "       'foulName2', 'foulNFLId2', 'foulName3', 'foulNFLId3',\n",
    "       'absoluteYardlineNumber', 'offenseFormation', 'personnelO',\n",
    "       'defendersInBox', 'personnelD', 'dropBackType', 'pff_playAction',\n",
    "       'pff_passCoverage', 'pff_passCoverageType']\n",
    "play_level_df = games_df.merge(plays_df, on='gameId', how='left')[coi]\n",
    "\n",
    "# Replace n/a yardlineSide\n",
    "play_level_df = play_level_df.fillna(value={'yardlineSide': 'MIDDLE'})\n",
    "\n",
    "# Drop one play with null absolute yard line number\n",
    "play_level_df = play_level_df[~((play_level_df.gameId == 2021091904) & (play_level_df.playId == 3676))]\n",
    "\n",
    "# play_level_df.head(5)"
   ]
  },
  {
   "cell_type": "code",
   "execution_count": null,
   "metadata": {},
   "outputs": [],
   "source": [
    "# Get the player-level data\n",
    "coi = ['gameId', 'playId', 'nflId', 'displayName', 'officialPosition',\n",
    "       'pff_role', 'pff_positionLinedUp', 'pff_hit', 'pff_hurry',\n",
    "       'pff_sack', 'pff_beatenByDefender', 'pff_hitAllowed',\n",
    "       'pff_hurryAllowed', 'pff_sackAllowed', 'pff_nflIdBlockedPlayer',\n",
    "       'pff_blockType', 'pff_backFieldBlock']\n",
    "player_level_df = (games_df.merge(plays_df, on='gameId', how='left')\n",
    "                .merge(scouting_df, on=['gameId','playId'], how='left')\n",
    "                .merge(players_df, on='nflId', how='left'))[coi]\n",
    "\n",
    "# Get whether a defender got a pressure on the play\n",
    "player_level_df['pff_pressure'] = player_level_df[['pff_hit','pff_hurry','pff_sack']].sum(axis=1)\n",
    "\n",
    "# Separate the IDs of the OL/DL/QBs on the field for each play for easy use with the frame-level data\n",
    "#1. Get the OL for each play\n",
    "ol_on_play_df = player_level_df.query(\"officialPosition in ['C','G','T']\")[coi]\n",
    "#2. Get the DL for each play\n",
    "dl_on_play_df = player_level_df.query(\"officialPosition in ['NT','DT','DE']\")[coi]\n",
    "#3. Get the QB for each play\n",
    "qb_on_play_df = player_level_df.query(\"pff_role == 'Pass' and officialPosition == 'QB'\")[coi]\n",
    "                \n",
    "# player_level_df.head(5)"
   ]
  },
  {
   "cell_type": "code",
   "execution_count": null,
   "metadata": {},
   "outputs": [],
   "source": [
    "# Get the frame-level data\n",
    "coi = ['gameId', 'playId', 'frameId', 'event', 'time', 'nflId', 'displayName', 'team', 'playDirection', 'x', 'y', 's', 'a', 'dis', 'o', 'dir']\n",
    "frame_level_df = (games_df.merge(plays_df, on='gameId', how='left')\n",
    "                .merge(tracking_df, on=['gameId','playId'], how='left')\n",
    "                .merge(players_df, on='nflId', how='left'))[coi]\n",
    "\n",
    "# Convert dt_time column to time\n",
    "frame_level_df['time'] = pd.to_datetime(frame_level_df['time'])\n",
    "\n",
    "# Replace n/a values for ball rows   \n",
    "frame_level_df = frame_level_df.fillna(value={\"nflId\":0,\"displayName\":\"ball\"})\n",
    "\n",
    "# Separate the frame-level data of OL/DL/QBs for easy repeated use\n",
    "coi = ['gameId', 'playId', 'nflId', 'frameId', 'x', 'y', 's', 'o', 'dir', 'playDirection']\n",
    "# 1. Get the tracking data of the DL at every frame\n",
    "dl_pos_df = dl_on_play_df.merge(frame_level_df, on=['gameId','playId','nflId'], how='left')[coi]\n",
    "# 2. Get the tracking data of the OL/LOS blockers for each frame\n",
    "ol_pos_df = ol_on_play_df.merge(frame_level_df, on=['gameId','playId','nflId'], how='left')[coi]\n",
    "# 3. Get the tracking data of the QB for each frame\n",
    "qb_pos_df = qb_on_play_df.merge(frame_level_df, on=['gameId','playId','nflId'], how='left')[coi]\n",
    "\n",
    "# frame_level_df.head(5)"
   ]
  },
  {
   "attachments": {},
   "cell_type": "markdown",
   "metadata": {},
   "source": [
    "#### **Check for NAs**"
   ]
  },
  {
   "cell_type": "code",
   "execution_count": null,
   "metadata": {},
   "outputs": [],
   "source": [
    "# Check for NA data\n",
    "ok_na_cols = [\"penaltyYards\", \"foulName1\", \"foulNFLId1\", \"foulName2\", \"foulNFLId2\",\n",
    "            \"foulName3\", \"foulNFLId3\", \"offenseFormation\", \"personnelO\", \"defendersInBox\",\n",
    "            \"personnelD\", \"dropBackType\"]\n",
    "if sum(play_level_df.loc[:,~play_level_df.columns.isin(ok_na_cols)].isna().sum().values) != 0:\n",
    "    print(play_level_df.loc[:,~play_level_df.columns.isin(ok_na_cols)].isna().sum().loc[lambda x: x > 0])"
   ]
  },
  {
   "cell_type": "code",
   "execution_count": null,
   "metadata": {},
   "outputs": [],
   "source": [
    "# Check for NA data\n",
    "ok_na_cols = [\"pff_hit\", \"pff_hurry\", \"pff_sack\", \"pff_beatenByDefender\",\n",
    "            \"pff_hitAllowed\", \"pff_hurryAllowed\", \"pff_sackAllowed\",\n",
    "            \"pff_nflIdBlockedPlayer\", \"pff_blockType\", \"pff_backFieldBlock\"]\n",
    "if sum(player_level_df.loc[:,~player_level_df.columns.isin(ok_na_cols)].isna().sum().values) != 0:\n",
    "    print(player_level_df.isna().sum().loc[lambda x: x > 0])"
   ]
  },
  {
   "cell_type": "code",
   "execution_count": null,
   "metadata": {},
   "outputs": [],
   "source": [
    "# Check for NA data\n",
    "ok_na_cols = ['o','dir']\n",
    "if sum(frame_level_df.loc[:,~frame_level_df.columns.isin(ok_na_cols)].isna().sum().values) != 0:\n",
    "    print(frame_level_df.isna().sum().loc[lambda x: x > 0])"
   ]
  },
  {
   "attachments": {},
   "cell_type": "markdown",
   "metadata": {},
   "source": [
    "### **Create the secondary data**"
   ]
  },
  {
   "attachments": {},
   "cell_type": "markdown",
   "metadata": {},
   "source": [
    "#### **Main competition derived**"
   ]
  },
  {
   "attachments": {},
   "cell_type": "markdown",
   "metadata": {},
   "source": [
    "##### **Time of the snap and \"action\" for each play**"
   ]
  },
  {
   "attachments": {},
   "cell_type": "markdown",
   "metadata": {},
   "source": [
    "*Get the time of the snap and action event for each play for further use*\n",
    "\n",
    "An action event is defined as the earliest of the following:  \n",
    "  - A throw  \n",
    "  - A non-throw, but play-ending event (QB sack, strip sack)\n",
    "  - Any play where the QB doesn't scramble  \n",
    "  - NOT YET: 3.5 seconds post-snap\n",
    "\n",
    "A hard time cap is useful for reducing noise introduced by “broken” plays. Plays without a targeted receiver are not used for training, but are included for predictions so that players can be quantified on all pass plays."
   ]
  },
  {
   "cell_type": "code",
   "execution_count": null,
   "metadata": {},
   "outputs": [],
   "source": [
    "# 1. Get the time of all the key events for each play (all individual snap/action events)\n",
    "potential_snap_events = ['ball_snap', 'autoevent_ballsnap']\n",
    "potential_action_events = ['pass_forward', 'autoevent_passforward', 'qb_sack', 'fumble', 'run', 'qb_strip_sack', 'lateral', 'handoff', 'tackle']\n",
    "conds = f\"(event in {potential_snap_events}) or (event in {potential_action_events})\"\n",
    "coi = ['gameId', 'playId', 'event', 'frameId', 'time']\n",
    "play_event_times_df = frame_level_df.query(conds)[coi].drop_duplicates()\n",
    "\n",
    "# 2. Get the time of the snap and action event for each play\n",
    "# Note: Not distinguishing snap/action times based on if they're from auto/manual events\n",
    "# Utilizing the times of the earliest snap and earliest action event to calculate the snap to action time.\n",
    "play_event_times_df.loc[play_event_times_df['event'].isin(potential_snap_events),'event'] = \"ballsnap\"\n",
    "play_event_times_df.loc[play_event_times_df['event'].isin(potential_action_events),'event'] = \"action\"\n",
    "play_event_times_df = play_event_times_df.groupby(['gameId','playId','event']).min().reset_index().sort_values(by=['time'])\n",
    "\n",
    "# 3. Get the frame of the snap\n",
    "coi = ['gameId','playId','frameId']\n",
    "frame_of_snap_df = play_event_times_df.query(\"event == 'ballsnap'\")[coi]\n",
    "\n",
    "# 4. Get the frame of the action\n",
    "coi = ['gameId','playId','frameId']\n",
    "frame_of_action_df = play_event_times_df.query(\"event == 'action'\")[coi]\n",
    "\n",
    "#5. Merge with the play-level data\n",
    "play_level_df = (play_level_df.merge(frame_of_snap_df.rename(columns={'frameId':'frameId_snap'}), how='left', on=['gameId','playId'])\n",
    "                .merge(frame_of_action_df.rename(columns={'frameId':'frameId_action'}), how='left', on=['gameId','playId']))"
   ]
  },
  {
   "attachments": {},
   "cell_type": "markdown",
   "metadata": {},
   "source": [
    "##### **Time from the snap to \"action\" for each play**"
   ]
  },
  {
   "attachments": {},
   "cell_type": "markdown",
   "metadata": {},
   "source": [
    "*Get the time from snap to an action event for each play for further analyses*"
   ]
  },
  {
   "cell_type": "code",
   "execution_count": null,
   "metadata": {},
   "outputs": [],
   "source": [
    "# 1. Drop rows where the tracking data is missing either a snap or action event\n",
    "bad_rows = (play_event_times_df[['gameId','playId','event']]\n",
    "            .groupby(['gameId','playId']).count().reset_index()\n",
    "            .query('event != 2').drop(columns=['event']))\n",
    "outer = play_event_times_df.merge(bad_rows, on=['gameId','playId'], how='outer', indicator=True)\n",
    "play_event_times_df = outer[outer._merge == 'left_only'].drop(columns=['_merge'])\n",
    "\n",
    "# 2. Get the snap to action event time for each play\n",
    "coi = ['gameId', 'playId', 'time']\n",
    "snap_to_action_df = play_event_times_df[coi].groupby(['gameId', 'playId']).agg(lambda x: np.max(x) - np.min(x)).reset_index().rename(columns={'time':'snap_to_action_time'})\n",
    "snap_to_action_df['snap_to_action_time'] = snap_to_action_df['snap_to_action_time'].apply(lambda x: x.total_seconds())\n",
    "snap_to_action_df = snap_to_action_df.sort_values(by=['snap_to_action_time']).reset_index(drop=True)\n",
    "snap_to_action_df.head()\n",
    "\n",
    "#3. Merge with the play-level data\n",
    "play_level_df = play_level_df.merge(snap_to_action_df, how='left', on=['gameId','playId'])"
   ]
  },
  {
   "attachments": {},
   "cell_type": "markdown",
   "metadata": {},
   "source": [
    "##### **Players for each play separated by position**"
   ]
  },
  {
   "cell_type": "code",
   "execution_count": null,
   "metadata": {},
   "outputs": [],
   "source": [
    "coi = [\"gameId\",\"playId\",\"nflId\"]\n",
    "#1. Get the DL for each play\n",
    "dl_on_play_df = player_level_df.query(\"officialPosition in ['NT','DT','DE']\")[coi]\n",
    "#2. Get the OL for each play\n",
    "ol_on_play_df = player_level_df.query(\"officialPosition in ['C','G','T']\")[coi]\n",
    "#3. Get the QB for each play\n",
    "qb_on_play_df = player_level_df.query(\"pff_role == 'Pass' and officialPosition == 'QB'\")[coi]"
   ]
  },
  {
   "attachments": {},
   "cell_type": "markdown",
   "metadata": {},
   "source": [
    "##### **Tracking data for each frame separated by position**"
   ]
  },
  {
   "cell_type": "code",
   "execution_count": null,
   "metadata": {},
   "outputs": [],
   "source": [
    "coi = ['gameId', 'playId', 'nflId', 'frameId', 'x', 'y', 's', 'o', 'dir', 'playDirection']\n",
    "# 1. Get the tracking data of the DL at every frame\n",
    "dl_pos_df = dl_on_play_df.merge(frame_level_df, on=['gameId','playId','nflId'], how='left')[coi]\n",
    "# 2. Get the tracking data of the OL/LOS blockers for each frame\n",
    "ol_pos_df = ol_on_play_df.merge(frame_level_df, on=['gameId','playId','nflId'], how='left')[coi]\n",
    "# 3. Get the tracking data of the QB for each frame\n",
    "qb_pos_df = qb_on_play_df.merge(frame_level_df, on=['gameId','playId','nflId'], how='left')[coi]"
   ]
  }
 ],
 "metadata": {
  "kernelspec": {
   "display_name": "kaggle_venv",
   "language": "python",
   "name": "python3"
  },
  "language_info": {
   "codemirror_mode": {
    "name": "ipython",
    "version": 3
   },
   "file_extension": ".py",
   "mimetype": "text/x-python",
   "name": "python",
   "nbconvert_exporter": "python",
   "pygments_lexer": "ipython3",
   "version": "3.9.7 (default, Jan 26 2022, 21:23:45) \n[Clang 13.0.0 (clang-1300.0.29.30)]"
  },
  "orig_nbformat": 4,
  "vscode": {
   "interpreter": {
    "hash": "7f1b956008a91c55b58e943197941d68155f979680d4b59411e907f4e002aa97"
   }
  }
 },
 "nbformat": 4,
 "nbformat_minor": 2
}
