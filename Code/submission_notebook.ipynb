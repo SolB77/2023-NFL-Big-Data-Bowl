{
 "cells": [
  {
   "attachments": {},
   "cell_type": "markdown",
   "metadata": {},
   "source": [
    "## **DAPPS - Difficulty Adjusted Pass-Rush Pressure Score**\n",
    "### By: Sol Ben-Ishay"
   ]
  },
  {
   "attachments": {},
   "cell_type": "markdown",
   "metadata": {},
   "source": [
    "### **Introduction**"
   ]
  },
  {
   "attachments": {},
   "cell_type": "markdown",
   "metadata": {},
   "source": [
    "The introduction of the forward pass in 1906 was one of, if not the most important change in its history. Since its introduction, further changes such as allowing passing anywhere behind the line of scrimmage in 1933 and allowing pass blockers to use open and extended hands in 1978 accelerated the sports, particularly in the NFL, emphasis on the pass. It wasn’t until the 1960 season that pro football finally had a passer eclipse 3,000 yards with both Johnny Unitas and Jack Kemp achieving the milestone. Flash forward 24 seasons later to 1984 and Dan Marino arguably introduced the new era of the passing game by being the first to throw for over 5,000 yards. To put the current volume of passing in the NFL into perspective, 10 quarterbacks passed for over 4,000 yards in the 2021 season.\n",
    "\n",
    " \n",
    "Unsurprisingly, as the overall passing game has changed, so has the play of offensive and defensive linemen. While a \"run-first mentality\" for linemen was the norm back in the day, the game has evolved to where teams now places a lot of value on the ability for their trench guys to perform strongly in the pass game. On the defensive side of the ball, this importance has fielded a new breed of interior and edge pass rushers such as Von Miller, Aaron Donald, Maxx Crosby, Khalil Mack, Myles Garrett, and the Bosa brothers (among many others). In today's NFL, it is evident that properly evaluating current and future pass rushing defensive linemen is crucial for any team looking to be successful.\n",
    "\n",
    " \n",
    "While there are existing ways out there to score performance on an individual pass rush such as PFF's grading system; I am not aware of any publicly available or commonly used ones that make use of the NFL's Next Gen Stats data. Not only required for the competition, including NFL NGS derived data in a composite score poses many potential benefits. Although standard data such as whether a player got a sack, hit, or hurry is useful, it doesn't show the full picture of the rush. For example, think about a play when a defender had a great rush forcing the QB out of the pocket to a sack, but didn’t get close enough to be called a pressure. What about a situation where a defender gets triple teamed and doesn’t tag a statistic, but gets a good push on the line of scrimmage? The standard data typically used to score pass rushes would not be able to effectively take these scenarios into account.\n",
    "\n",
    " \n",
    "Driven by this absence of a solid metric that accurately captures the performance and difficulty of a pass rush by a defensive linemen and guided by my experience of playing defensive line through the collegiate level, I introduce the Difficulty Adjusted Pass-Rush Pressure Score (DAPPS)."
   ]
  },
  {
   "attachments": {},
   "cell_type": "markdown",
   "metadata": {},
   "source": [
    "### **Data Prep**"
   ]
  },
  {
   "attachments": {},
   "cell_type": "markdown",
   "metadata": {},
   "source": [
    "After reading in the raw csv competition data, the various dataframes were merged into separate play, player, and frame level main dataframes. After checking for relevant NAs, cleaning the data, and doing some preliminary EDA the following metric components/features were derived:\n",
    "* **_pos_lined_up_dist_from_qb_at_snap_** - The straight-line distance from where the pass rusher lined up to the QB at the snap on the play\n",
    "* **_num_blockers_** - The number of blockers the pass rusher faced on the play\n",
    "* **_min_dist_from_qb_** - The closest straight-line distance the pass rusher got to the QB on the play\n",
    "* **_dist_from_qb_at_action_** - The straight-line distance the pass rusher was away from the QB at the \"action\" time on the play\n",
    "* **_pff_hurry_hit_sack_** - Whether the player got a hurry, hit, sack, or nothing on the play based on PFF's scouting data\n",
    "* **_pos_lined_up_diff_dist_from_qb_** - The difference in the straight-line distance from where the pass rusher lined up to the QB between the snap and action on the play\n",
    "* **_snap_to_action_time_** - The time from \"snap\" to \"action\" on the play\n",
    "* **_penalty_** - Whether the pass rusher got a penalty on the play\n",
    "\n",
    "After creating these features, they were merged with the standard game/play/player identifying data (gameId, playId, nflId) as well as the down and yards to go on the play. In order to stick to the scope of the competition, this data was filtered for only defensive linemen (official position of NT, DT, or DE). Next, all the metric sub-components were either normally or reverse min-max normalized in order to be able to create the DAPPS score. The min_dist_from_qb, dist_from_qb_at_action, penalty, snap_to_action_time, yardsToGo, and down were reverse min-max normalized by scaling using 1 minus the min-max normalized value. This was required in order to place high values closer to 0 (weaker) and low values closer to 1 (stronger) on the normalized scale for these score sub-components."
   ]
  },
  {
   "attachments": {},
   "cell_type": "markdown",
   "metadata": {},
   "source": [
    "### **DAPPS Methodology/Framework**"
   ]
  },
  {
   "attachments": {},
   "cell_type": "markdown",
   "metadata": {},
   "source": [
    "The **_Difficulty Adjusted Pass-Rush Pressure Score (DAPPS)_** is a composite metric that can be used to grade the performance of an individual pass rush by a defensive linemen (defined as any player with an official position of NT, DT, or DE) based on a weighted average of individually created **_Pressure and Difficulty scores_**.\n",
    "\n",
    "The **_Pressure Score_** was calculated by using the average of multiple sub-components related to the pressure the pass rusher exerted on the play.\\\n",
    "It is calculated as follows:\n",
    "$$\n",
    "\\begin{equation}\\tag{1}\n",
    "\\displaystyle \\mathnormal{Pressure\\ Score}\\ =\\ \\frac{normMinDistFromQb + normDistFromQbAtAction + normPenalty + normSnapToActionTime}{4} \\\\\n",
    "\\end{equation}\n",
    "$$\n",
    "where:\n",
    "* *normMinDistFromQb* = The min-max normalized minimum distance the pass rusher got to the QB on the play\n",
    "* *normDistFromQbAtAction* = The min-max normalized distance the pass rusher was away from the QB at the time of \"action\" on the play\n",
    "* *normPenalty* = A min-max normalized 1 or 0 representing whether the pass rusher got a penalty on the play\n",
    "* *normSnapToActionTime* = The min-max normalized time from snap to \"action\" on the play\n",
    "<br/><br/>\n",
    "\n",
    "Like the **_Pressure Score_**, the **_Difficulty Score_** was calculating by using the average of multiple sub-components but related to the difficulty the pass rusher faced on the play.\\\n",
    "It is calculated as follows:\n",
    "$$\n",
    "\\begin{equation}\\tag{2}\n",
    "\\displaystyle \\mathnormal{Difficulty\\ Score}\\ =\\ \\frac{\\begin{aligned}normDown +& normYardsToGo + normPosLinedUpDistFromQbAtSnap \\\\ +& normNumBlockers + normPosLinedUpDiffDistFromQb\\end{aligned}}{5} \\\\\n",
    "\\end{equation}\n",
    "$$\n",
    "where:\n",
    "* *normDown* = The min-max normalized down on the play\n",
    "* *normYardsToGo* = The min-max normalized yards to go to a first down on the play\n",
    "* *normPosLinedUpDistFromQbAtSnap* = The min-max normalized distance from where the pass rusher lined up to the QBs position at the time of snap on the play\n",
    "* *normNumBlockers* = The min-max normalized number of blockers the pass rusher faced on off the snap\n",
    "* *normPosLinedUpDiffDistFromQb* = The min-max normalized difference in the distance from where the pass rusher lined up to the QBs position between the time of \"action\" and snap\n",
    "<br/><br/>\n",
    "\n",
    "Finally, the **_Difficulty Adjusted Pass-Rush Pressure Score (DAPPS)_** was created using the weighted average of the two subscores with the **_Pressure Score_** and **_Difficulty Score_** receiving weights of 70 and 30 percent respectively.\n",
    "It is calculated as follows:\n",
    "$$\n",
    "\\begin{equation}\\tag{3}\n",
    "\\displaystyle \\mathnormal{DAPPS}\\ =\\ Pressure\\ Score\\left(.70\\right) + Difficulty\\ Score\\left(.30\\right) \\\\\n",
    "\\end{equation}\n",
    "$$\n",
    "\n"
   ]
  },
  {
   "attachments": {},
   "cell_type": "markdown",
   "metadata": {},
   "source": [
    "### **Results**"
   ]
  },
  {
   "cell_type": "markdown",
   "metadata": {},
   "source": [
    "### **Future Direction**"
   ]
  },
  {
   "attachments": {},
   "cell_type": "markdown",
   "metadata": {},
   "source": [
    "### **References**"
   ]
  },
  {
   "attachments": {},
   "cell_type": "markdown",
   "metadata": {},
   "source": [
    "### **Appendix**"
   ]
  },
  {
   "attachments": {},
   "cell_type": "markdown",
   "metadata": {},
   "source": [
    "Link to the GitHub repo with all the code: https://github.com/SolB77/2023-NFL-Big-Data-Bowl"
   ]
  }
 ],
 "metadata": {
  "kernelspec": {
   "display_name": "kaggle_venv",
   "language": "python",
   "name": "python3"
  },
  "language_info": {
   "name": "python",
   "version": "3.9.7 (default, Jan 26 2022, 21:23:45) \n[Clang 13.0.0 (clang-1300.0.29.30)]"
  },
  "orig_nbformat": 4,
  "vscode": {
   "interpreter": {
    "hash": "7f1b956008a91c55b58e943197941d68155f979680d4b59411e907f4e002aa97"
   }
  }
 },
 "nbformat": 4,
 "nbformat_minor": 2
}
