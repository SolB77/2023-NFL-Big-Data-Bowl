{
 "cells": [
  {
   "attachments": {},
   "cell_type": "markdown",
   "metadata": {},
   "source": [
    "## **DAPPS - Difficulty Adjusted Pass-Rush Pressure Score**\n",
    "### By: Sol Ben-Ishay"
   ]
  },
  {
   "attachments": {},
   "cell_type": "markdown",
   "metadata": {},
   "source": [
    "### **Introduction**"
   ]
  },
  {
   "attachments": {},
   "cell_type": "markdown",
   "metadata": {},
   "source": [
    "The introduction of the forward pass in 1906 was one of, if not the most important change in its history. Since its introduction, further changes such as allowing passing anywhere behind the line of scrimmage in 1933 and allowing pass blockers to use open and extended hands in 1978 accelerated the sports, particularly in the NFL, emphasis on the pass. It wasn’t until the 1960 season that pro football finally had a passer eclipse 3,000 yards with both Johnny Unitas and Jack Kemp achieving the milestone. Flash forward 24 seasons later to 1984 and Dan Marino arguably introduced the new era of the passing game by being the first to throw for over 5,000 yards. To put the current volume of passing in the NFL into perspective, 10 quarterbacks passed for over 4,000 yards in the 2021 season.\n",
    "\n",
    " \n",
    "Unsurprisingly, as the overall passing game has changed, so has the play of offensive and defensive linemen. While a \"run-first mentality\" for linemen was the norm back in the day, the game has evolved to where it now places a lot of value on the ability for their trench guys to perform strongly in the pass game. On the defensive side of the ball, this importance has fielded a new breed of interior and edge pass rushers such as Von Miller, Aaron Donald, Maxx Crosby, Khalil Mack, Myles Garrett, and the Bosa brothers (among many others). In today's NFL, it is evident that properly evaluating current and future pass rushing defensive linemen is crucial for any team looking to be successful.\n",
    "\n",
    " \n",
    "While there are existing ways out there to score performance on an individual pass rush such as PFF's grading system; I am not aware of any publicly available or commonly used ones that make use of the NFL's Next Gen Stats data. Not only required for the competition, including NFL NGS derived data in a composite score poses many potential benefits. Although standard data such as whether a player got a sack, hit, or hurry is useful, it doesn't show the full picture of the rush. For example, think about a play when a defender had a great rush forcing the QB out of the pocket to a sack, but didn’t get close enough to be called a pressure. What about a situation where a defender gets triple teamed and doesn’t tag a statistic, but gets a good push on the line of scrimmage? The standard data typically used to score pass rushes would not be able to effectively take these scenarios into account.\n",
    "\n",
    " \n",
    "Driven by this absence of a solid metric that accurately captures the performance and difficulty of a pass rush by a defensive linemen and guided by my experience of playing defensive line through the collegiate level, I introduce the Difficulty Adjusted Pass-Rush Pressure Score (DAPPS)."
   ]
  },
  {
   "attachments": {},
   "cell_type": "markdown",
   "metadata": {},
   "source": [
    "### **DAPPS Methodology/Framework**"
   ]
  },
  {
   "attachments": {},
   "cell_type": "markdown",
   "metadata": {},
   "source": [
    "The Difficulty Adjusted Pass-Rush Pressure Score is a composite metric that can be used to grade the performance of an individual pass rush by a defensive linemen (defined as any player with an officialPosition of NT,DT, or DE) based on a weighted average of individually created pressure and difficulty scores.\n",
    "\n",
    "The pressure score was calculated as follows:\n",
    "\n",
    "$$\n",
    "\\begin{align*}\n",
    "Pressure Score =\n",
    "normMinDistFromQb\n",
    "+\n",
    "normDistFromQbAtAction\n",
    "+\n",
    "normPenalty\n",
    "+\n",
    "normSnapToActionTime\n",
    "\\end{align*}\n",
    "$$\n",
    "\n",
    "\n"
   ]
  },
  {
   "attachments": {},
   "cell_type": "markdown",
   "metadata": {},
   "source": [
    "OUT OF TIME!!!!!!"
   ]
  },
  {
   "attachments": {},
   "cell_type": "markdown",
   "metadata": {},
   "source": [
    "### **Results**"
   ]
  },
  {
   "cell_type": "markdown",
   "metadata": {},
   "source": [
    "### **Future Direction**"
   ]
  },
  {
   "attachments": {},
   "cell_type": "markdown",
   "metadata": {},
   "source": [
    "### **References**"
   ]
  },
  {
   "attachments": {},
   "cell_type": "markdown",
   "metadata": {},
   "source": [
    "### **Appendix**"
   ]
  },
  {
   "attachments": {},
   "cell_type": "markdown",
   "metadata": {},
   "source": [
    "Link to the GitHub repo with all the code: https://github.com/SolB77/2023-NFL-Big-Data-Bowl"
   ]
  }
 ],
 "metadata": {
  "kernelspec": {
   "display_name": "kaggle_venv",
   "language": "python",
   "name": "python3"
  },
  "language_info": {
   "name": "python",
   "version": "3.9.7 (default, Jan 26 2022, 21:23:45) \n[Clang 13.0.0 (clang-1300.0.29.30)]"
  },
  "orig_nbformat": 4,
  "vscode": {
   "interpreter": {
    "hash": "7f1b956008a91c55b58e943197941d68155f979680d4b59411e907f4e002aa97"
   }
  }
 },
 "nbformat": 4,
 "nbformat_minor": 2
}
